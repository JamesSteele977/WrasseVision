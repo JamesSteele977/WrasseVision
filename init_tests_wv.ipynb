{
 "cells": [
  {
   "cell_type": "code",
   "execution_count": null,
   "metadata": {},
   "outputs": [],
   "source": [
    "import torch\n",
    "\n",
    "def iou():\n",
    "    pass\n",
    "\n",
    "def non_max_suppression(\n",
    "        predictions,\n",
    "        IOU_THRESHOLD,\n",
    "        INIT_THRESHOLD\n",
    "):\n",
    "    # bboxes assumed to have structure:\n",
    "    # [class, logit, x1, y1, x2, y2]\n",
    "    # with xy1 being upper-left and xy2 being bottom-right\n",
    "\n",
    "    bboxes = [box for box in bboxes if box > INIT_THRESHOLD]\n",
    "    bbozes = sorted(bboxes, keys=lambda x: x[1])\n",
    "    nms_boxes = []\n",
    "\n",
    "    while bboxes:\n",
    "        chosen_box = bboxes.pop(0)\n",
    "        bboxes = [box for box in bboxes \n",
    "                  if box[0] != chosen_box[0] \n",
    "                  or iou(torch.tensor(chosen_box[2:]),\n",
    "                  torch.tensor(box[2:])) \n",
    "                  < IOU_THRESHOLD]\n"
   ]
  }
 ],
 "metadata": {
  "language_info": {
   "name": "python"
  },
  "orig_nbformat": 4
 },
 "nbformat": 4,
 "nbformat_minor": 2
}
